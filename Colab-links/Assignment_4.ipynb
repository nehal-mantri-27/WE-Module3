{
  "nbformat": 4,
  "nbformat_minor": 0,
  "metadata": {
    "colab": {
      "provenance": []
    },
    "kernelspec": {
      "name": "python3",
      "display_name": "Python 3"
    },
    "language_info": {
      "name": "python"
    }
  },
  "cells": [
    {
      "cell_type": "code",
      "execution_count": 2,
      "metadata": {
        "id": "U1tsaPRTm6iz"
      },
      "outputs": [],
      "source": [
        "import random\n",
        "\n",
        "def generate(filename: str, start_words: list[str], chain_length: int, num_generated: int) -> str:\n",
        "  if len(start_words) != chain_length:\n",
        "    raise ValueError(\"start_words list must have the same length as chain_length\")\n",
        "  with open(filename, 'r') as f:\n",
        "    text = f.read()\n",
        "  word_dict = {}\n",
        "  for i in range(len(words) - chain_length):\n",
        "    key = tuple(words[i:i+chain_length])\n",
        "    if key not in word_dict:\n",
        "      word_dict[key] = []\n",
        "    word_dict[key].append(words[i+chain_length])\n",
        "  generated_sentence = start_words\n",
        "  for _ in range(num_generated):\n",
        "    prev_words = tuple(generated_sentence[-chain_length:])\n",
        "    if prev_words in word_dict:\n",
        "      next_word = random.choice(word_dict[prev_words])\n",
        "    else:\n",
        "      next_word = random.choice(words)\n",
        "    generated_sentence.append(next_word)\n",
        "  return \" \".join(generated_sentence)\n"
      ]
    },
    {
      "cell_type": "code",
      "source": [],
      "metadata": {
        "id": "-R4SXTrinrFT"
      },
      "execution_count": null,
      "outputs": []
    }
  ]
}