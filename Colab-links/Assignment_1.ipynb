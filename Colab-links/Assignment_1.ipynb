{
  "nbformat": 4,
  "nbformat_minor": 0,
  "metadata": {
    "colab": {
      "provenance": []
    },
    "kernelspec": {
      "name": "python3",
      "display_name": "Python 3"
    },
    "language_info": {
      "name": "python"
    }
  },
  "cells": [
    {
      "cell_type": "code",
      "source": [
        "def prime_factors(n):\n",
        "  \"\"\"\n",
        "  This function efficiently computes the prime factors of a positive integer n.\n",
        "\n",
        "  Args:\n",
        "      n: A positive integer.\n",
        "\n",
        "  Returns:\n",
        "      A list containing the prime factors of n.\n",
        "  \"\"\"\n",
        "  if n <= 1:\n",
        "    return []  # Handle non-positive input\n",
        "  factors = []\n",
        "  i = 2\n",
        "  # Only iterate up to the square root of n, as any remaining factor would be greater\n",
        "  while i * i <= n:\n",
        "    if n % i == 0:\n",
        "      factors.append(i)\n",
        "      n //= i  # Efficient integer division for faster updates\n",
        "    else:\n",
        "      i += 1\n",
        "  # Handle the case where n is a prime number greater than the loop's limit\n",
        "  if n > 1:\n",
        "    factors.append(n)\n",
        "  return factors\n",
        "\n",
        "# Example usage\n",
        "number = 123456\n",
        "prime_factors_list = prime_factors(number)\n",
        "print(f\"Prime factors of {number} are: {prime_factors_list}\")\n"
      ],
      "metadata": {
        "colab": {
          "base_uri": "https://localhost:8080/"
        },
        "id": "p-kPVHcnmD_U",
        "outputId": "75c0f5d0-350a-4683-911e-e4e25b54fe9a"
      },
      "execution_count": 1,
      "outputs": [
        {
          "output_type": "stream",
          "name": "stdout",
          "text": [
            "Prime factors of 123456 are: [2, 2, 2, 2, 2, 2, 3, 643]\n"
          ]
        }
      ]
    },
    {
      "cell_type": "code",
      "execution_count": 2,
      "metadata": {
        "colab": {
          "base_uri": "https://localhost:8080/"
        },
        "id": "2WXeVug2l7Fs",
        "outputId": "aed950b0-df51-44f2-b1ac-29defa67cde8"
      },
      "outputs": [
        {
          "output_type": "stream",
          "name": "stdout",
          "text": [
            "Prime factors of 123456 are: [2, 2, 2, 2, 2, 2, 3, 643]\n"
          ]
        }
      ],
      "source": [
        "def is_prime(n):\n",
        "  \"\"\"\n",
        "  This function checks if a number is prime.\n",
        "\n",
        "  Args:\n",
        "      n: A positive integer.\n",
        "\n",
        "  Returns:\n",
        "      True if n is prime, False otherwise.\n",
        "  \"\"\"\n",
        "  if n <= 1:\n",
        "    return False\n",
        "  for i in range(2, int(n**0.5) + 1):\n",
        "    if n % i == 0:\n",
        "      return False\n",
        "  return True\n",
        "\n",
        "def prime_factors(n):\n",
        "  \"\"\"\n",
        "  This function efficiently computes the prime factors of a positive integer n.\n",
        "\n",
        "  Args:\n",
        "      n: A positive integer.\n",
        "\n",
        "  Returns:\n",
        "      A list containing the prime factors of n.\n",
        "  \"\"\"\n",
        "  if n <= 1:\n",
        "    return []\n",
        "  factors = []\n",
        "  i = 2\n",
        "  while i * i <= n:\n",
        "    while n % i == 0:\n",
        "      factors.append(i)\n",
        "      n //= i\n",
        "    i += 1\n",
        "  if is_prime(n):  # Check if remaining n is prime after loop\n",
        "    factors.append(n)\n",
        "  return factors\n",
        "\n",
        "# Example usage\n",
        "number = 123456\n",
        "prime_factors_list = prime_factors(number)\n",
        "print(f\"Prime factors of {number} are: {prime_factors_list}\")\n"
      ]
    }
  ]
}